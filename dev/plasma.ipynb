{
 "cells": [
  {
   "cell_type": "code",
   "execution_count": 1,
   "metadata": {},
   "outputs": [
    {
     "name": "stdout",
     "output_type": "stream",
     "text": [
      "Using matplotlib backend: Qt5Agg\n",
      "Populating the interactive namespace from numpy and matplotlib\n"
     ]
    }
   ],
   "source": [
    "%pylab"
   ]
  },
  {
   "cell_type": "code",
   "execution_count": 2,
   "metadata": {
    "collapsed": true
   },
   "outputs": [],
   "source": [
    "fig, ax = subplots(figsize=(8,2))"
   ]
  },
  {
   "cell_type": "code",
   "execution_count": 24,
   "metadata": {},
   "outputs": [],
   "source": [
    "buff = zeros((32,128,3), dtype=uint8)\n",
    "img = ax.imshow( buff )"
   ]
  },
  {
   "cell_type": "code",
   "execution_count": 206,
   "metadata": {
    "collapsed": true
   },
   "outputs": [],
   "source": [
    "# setPixel( 0, x, y, ((x+y+frm)&aniZoom)*boost, ((x-y-frm)&aniZoom)*boost, ((x^y)&aniZoom)*boost, 0 );\n",
    "frm = 0\n",
    "zoom = 4"
   ]
  },
  {
   "cell_type": "code",
   "execution_count": 5529,
   "metadata": {},
   "outputs": [],
   "source": [
    "x = arange( 128 )\n",
    "y = arange(  32 )\n",
    "xx, yy = meshgrid( x, y )\n",
    "buff[:,:,0] = ((xx+yy+frm)&zoom)*boost\n",
    "buff[:,:,1] = ((xx-yy-frm)&zoom)*boost\n",
    "buff[:,:,2] = ((xx^yy)&zoom)*boost\n",
    "frm += 1\n",
    "img.set_data( buff )"
   ]
  },
  {
   "cell_type": "code",
   "execution_count": 5515,
   "metadata": {},
   "outputs": [
    {
     "name": "stdout",
     "output_type": "stream",
     "text": [
      "53483 11\n"
     ]
    }
   ],
   "source": [
    "zoom = randint(1, 2**16)\n",
    "boost = randint(1, 16)\n",
    "print( zoom, boost)"
   ]
  },
  {
   "cell_type": "code",
   "execution_count": 5483,
   "metadata": {},
   "outputs": [
    {
     "data": {
      "image/png": "[encoded data removed]",
      "text/plain": [
       "<matplotlib.figure.Figure at 0x7f63628930f0>"
      ]
     },
     "metadata": {},
     "output_type": "display_data"
    }
   ],
   "source": [
    "display(gcf())"
   ]
  },
  {
   "cell_type": "code",
   "execution_count": 5537,
   "metadata": {},
   "outputs": [
    {
     "data": {
      "text/plain": [
       "144"
      ]
     },
     "execution_count": 5537,
     "metadata": {},
     "output_type": "execute_result"
    }
   ],
   "source": [
    "16*9"
   ]
  }
 ],
 "metadata": {
  "kernelspec": {
   "display_name": "Python 3",
   "language": "python",
   "name": "python3"
  },
  "language_info": {
   "codemirror_mode": {
    "name": "ipython",
    "version": 3
   },
   "file_extension": ".py",
   "mimetype": "text/x-python",
   "name": "python",
   "nbconvert_exporter": "python",
   "pygments_lexer": "ipython3",
   "version": "3.6.1"
  }
 },
 "nbformat": 4,
 "nbformat_minor": 2
}

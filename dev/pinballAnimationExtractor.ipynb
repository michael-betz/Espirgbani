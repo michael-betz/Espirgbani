{
 "cells": [
  {
   "cell_type": "code",
   "execution_count": 1,
   "metadata": {},
   "outputs": [
    {
     "name": "stdout",
     "output_type": "stream",
     "text": [
      "Using matplotlib backend: Qt5Agg\n",
      "Populating the interactive namespace from numpy and matplotlib\n"
     ]
    }
   ],
   "source": [
    "%pylab\n",
    "import time\n",
    "import matplotlib.animation as animation"
   ]
  },
  {
   "cell_type": "code",
   "execution_count": 2,
   "metadata": {
    "collapsed": true
   },
   "outputs": [],
   "source": [
    "with open(\"./ani.raw.data\",\"rb\") as f:\n",
    "    rawDat = array( bytearray(f.read()), dtype=uint8 )\n",
    "a = zeros((2*len(rawDat)), dtype=uint8)\n",
    "# unpack 2 pixels / byte to 1 pixel / byte\n",
    "a[1::2] = rawDat & 0x0F\n",
    "a[0::2] = rawDat >> 4"
   ]
  },
  {
   "cell_type": "code",
   "execution_count": 36,
   "metadata": {
    "collapsed": true,
    "scrolled": true
   },
   "outputs": [],
   "source": [
    "close(\"all\")\n",
    "figure( figsize=(8,2))\n",
    "d = imshow( zeros((128,32)), aspect=\"auto\", vmin=0, vmax=15, interpolation=\"hanning\", cmap=cm.binary_r )\n",
    "\n",
    "xSize = 128\n",
    "ySize = 64   #len(rawDat)\n",
    "frameSize = xSize * ySize\n",
    "frame = 700\n",
    "def ani(x):\n",
    "    global frame\n",
    "    offset = xSize*ySize//2*frame + xSize*16\n",
    "    b = array( a[offset:offset+ySize*xSize] ).reshape((-1,xSize))\n",
    "    d.set_data( b )\n",
    "    frame += 1\n",
    "#ani = animation.FuncAnimation(gcf(), ani, interval=200 )"
   ]
  },
  {
   "cell_type": "code",
   "execution_count": 4,
   "metadata": {
    "collapsed": true
   },
   "outputs": [],
   "source": [
    "# Print a pretty hex-dump on the debug out\n",
    "def hexDump( buffer ):\n",
    "    for i,b in enumerate(buffer):\n",
    "        if len(buffer)>16 and (i%16)==0:\n",
    "            print( \"\\n    {:04x}: \".format(i), end='' )\n",
    "        print( \"{:02x} \".format(b), end='' )"
   ]
  },
  {
   "cell_type": "code",
   "execution_count": 122,
   "metadata": {
    "collapsed": true
   },
   "outputs": [],
   "source": [
    "def getFrame( buf, xSize=128, ySize=32, frameOffset=0, byteOffset=None ):\n",
    "    if byteOffset is None:\n",
    "        byteOffset = xSize*ySize*frameOffset       \n",
    "    print( hex(byteOffset//2) )\n",
    "    return a[byteOffset:byteOffset+ySize*xSize].reshape((-1,xSize))"
   ]
  },
  {
   "cell_type": "markdown",
   "metadata": {},
   "source": [
    "# Header\n",
    "\n",
    "Starting from 0xC800, there seems to be a 0x200 size header block for each animation\n",
    "\n",
    "    ---------------------------------------------------------------------\n",
    "    0001 02 03 0405060708 09 0A 0B 0C 0D 0E 0F 10 11 12 13 <string name> <0x00 padding>\n",
    "    ---------------------------------------------------------------------\n",
    "    0001 01 58 000061A870 57 20 02 01 01 01 2E 03 2F 3B 01 24_001              0x0012C400\n",
    "    0002 01 2C 0000630938 57 20 02 01 01 01 5A 0A 01 2C 01 24_002              0x0013EE00\n",
    "    0003 01 06 000063BA18 29 20 01 00 00 00 00 00 00 00 00 24_003              0x00143000\n",
    "    0004 01 0A 000063D31E 22 20 01 00 00 00 00 00 00 00 00 24_004              0x00148800\n",
    "    0005 01 05 000063FC1E 83 20 01 00 00 00 00 00 00 00 01 24_005\n",
    "    0006 01 29 0000641129 57 20 02 01 01 01 05 0A 01 29 01 24_006\n",
    "    0007 01 08 000064B630 AE 20 01 00 00 00 00 00 00 00 01 24_007\n",
    "    0008 01 1D 000064D71D 17 1D 02 01 01 01 03 0A 01 23 01 24_008\n",
    "    0009 01 3F 0000654C50 57 20 02 01 01 01 03 0A 01 3F 00 24_009\n",
    "    000A 01 10 0000664910 80 20 01 01 01 00 00 00 00 00 00 AC#DC_001\n",
    "    000B 01 20 0000668A20 80 20 01 01 00 00 00 00 00 00 00 AC#DC_002\n",
    "    022E 01 01 0000FFFD01 80 20 01 00 00 00 00 00 00 00 00 FLINTSTONES_024\n",
    "    022F 01 01 0001000201 80 20 01 00 00 00 00 00 00 00 00 FLINTSTONES_025\n",
    "    0230 01 01 0001000701 80 20 01 00 00 00 00 00 00 00 00 FLINTSTONES_026\n",
    "    08FC 01 23 00034AB723 80 20 01 01 00 00 00 00 00 00 00 X-MEN_063\n",
    "    08FD 01 14 00034B4414 80 20 01 00 00 00 00 00 00 00 00 X-MEN_064\n",
    "    08FE 01 39 00034B9539 80 20 00 01 01 00 00 00 00 00 00 X-MEN_065\n",
    "\n",
    "\n",
    "    0001        : Animation ID\n",
    "    09          : xResolution [pixels]\n",
    "    0A          : yResolution [pixels]\n",
    "    04050607\t: Some kind of offset ??\n",
    "\n",
    "# Animation offsets\n",
    "    \n",
    "    0x12C400: Start of first frame of first animation\n",
    "    0x13EE00: Start of first frame of second animation\n",
    "    0x143000: Start of first frame of third animation\n",
    "    0x148800\n",
    "    \n",
    "\n",
    "\n",
    "\n",
    "\n",
    "__Strange data blocks at the end of an animation__\n",
    "    \n",
    "    0013EC00   01 32 02 32  03 32 04 32  05 32 06 32  07 32 08 32  .2.2.2.2.2.2.2.2\n",
    "    0013EC10   01 32 02 32  03 32 04 32  05 32 06 32  07 32 08 32  .2.2.2.2.2.2.2.2\n",
    "    0013EC20   01 32 02 32  03 32 04 32  05 32 06 32  07 32 08 32  .2.2.2.2.2.2.2.2\n",
    "    0013EC30   01 32 02 32  03 32 04 32  05 32 06 32  07 32 08 32  .2.2.2.2.2.2.2.2\n",
    "    0013EC40   01 32 02 32  03 32 04 32  05 32 06 32  07 32 08 32  .2.2.2.2.2.2.2.2\n",
    "    0013EC50   01 32 02 32  03 32 04 32  05 32 06 32  07 32 08 32  .2.2.2.2.2.2.2.2\n",
    "    \n",
    "    00142E00   01 69 02 32  03 32 04 32  05 32 06 32  07 32 08 32  .i.2.2.2.2.2.2.2\n",
    "    00142E10   09 32 0A 32  0B 6E 0C 69  0D 32 0E 32  0F 32 10 32  .2.2.n.i.2.2.2.2\n",
    "    00142E20   11 32 12 32  13 32 14 32  15 69 16 32  17 32 18 32  .2.2.2.2.i.2.2.2\n",
    "    00142E30   19 32 1A 32  1B 32 1C 32  1D 73 00 00  00 00 00 00  .2.2.2.2.s......\n"
   ]
  },
  {
   "cell_type": "code",
   "execution_count": 233,
   "metadata": {
    "scrolled": true
   },
   "outputs": [
    {
     "name": "stdout",
     "output_type": "stream",
     "text": [
      "0x12c400\n"
     ]
    }
   ],
   "source": [
    "d.set_data( getFrame(a, byteOffset=0x12C400*2 + frameSize*0 ) )"
   ]
  },
  {
   "cell_type": "code",
   "execution_count": 540,
   "metadata": {},
   "outputs": [
    {
     "data": {
      "text/plain": [
       "'0x6abb000'"
      ]
     },
     "execution_count": 540,
     "metadata": {},
     "output_type": "execute_result"
    }
   ],
   "source": [
    "hex(0x258800 + 53445*128*32//2)"
   ]
  },
  {
   "cell_type": "code",
   "execution_count": 479,
   "metadata": {
    "collapsed": true
   },
   "outputs": [],
   "source": [
    "adrs = [ 0x000061A870,\n",
    "         0x0000630938,\n",
    "         0x000063BA18,\n",
    "         0x000063D31E ]"
   ]
  },
  {
   "cell_type": "code",
   "execution_count": 480,
   "metadata": {},
   "outputs": [
    {
     "data": {
      "text/plain": [
       "array([90312, 45280,  6406])"
      ]
     },
     "execution_count": 480,
     "metadata": {},
     "output_type": "execute_result"
    }
   ],
   "source": [
    "diff(adrs)"
   ]
  },
  {
   "cell_type": "code",
   "execution_count": 483,
   "metadata": {},
   "outputs": [
    {
     "data": {
      "text/plain": [
       "73728"
      ]
     },
     "execution_count": 483,
     "metadata": {},
     "output_type": "execute_result"
    }
   ],
   "source": [
    "36*128*32//2"
   ]
  },
  {
   "cell_type": "code",
   "execution_count": 154,
   "metadata": {},
   "outputs": [
    {
     "name": "stdout",
     "output_type": "stream",
     "text": [
      "\n",
      "    0000: 00 00 01 0d 00 01 00 08 00 00 00 00 07 01 0e 08 \n",
      "    0010: 03 00 08 00 02 00 00 02 00 00 00 00 00 00 00 00 \n",
      "    0020: 00 00 00 00 00 00 00 00 04 01 04 03 02 03 04 04 \n",
      "    0030: 04 03 05 0f 03 00 03 02 03 00 00 00 00 00 00 00 \n",
      "    0040: 00 00 00 00 00 00 00 00 00 00 00 00 00 00 00 00 \n",
      "    0050: 00 00 00 00 00 00 00 00 00 00 00 00 00 00 00 00 \n",
      "    0060: 00 00 00 00 00 00 00 00 00 00 00 00 00 00 00 00 \n",
      "    0070: 00 00 00 00 00 00 00 00 00 00 00 00 00 00 00 00 "
     ]
    },
    {
     "data": {
      "text/plain": [
       "\"b'\\\\x00\\\\x00\\\\x01\\\\r\\\\x00\\\\x01\\\\x00\\\\x08\\\\x00\\\\x00\\\\x00\\\\x00\\\\x07\\\\x01\\\\x0e\\\\x08\\\\x03\\\\x00\\\\x08\\\\x00\\\\x02\\\\x00\\\\x00\\\\x02\\\\x00\\\\x00\\\\x00\\\\x00\\\\x00\\\\x00\\\\x00\\\\x00\\\\x00\\\\x00\\\\x00\\\\x00\\\\x00\\\\x00\\\\x00\\\\x00\\\\x04\\\\x01\\\\x04\\\\x03\\\\x02\\\\x03\\\\x04\\\\x04\\\\x04\\\\x03\\\\x05\\\\x0f\\\\x03\\\\x00\\\\x03\\\\x02\\\\x03\\\\x00\\\\x00\\\\x00\\\\x00\\\\x00\\\\x00\\\\x00\\\\x00\\\\x00\\\\x00\\\\x00\\\\x00\\\\x00\\\\x00\\\\x00\\\\x00\\\\x00\\\\x00\\\\x00\\\\x00\\\\x00\\\\x00\\\\x00\\\\x00\\\\x00\\\\x00\\\\x00\\\\x00\\\\x00\\\\x00\\\\x00\\\\x00\\\\x00\\\\x00\\\\x00\\\\x00\\\\x00\\\\x00\\\\x00\\\\x00\\\\x00\\\\x00\\\\x00\\\\x00\\\\x00\\\\x00\\\\x00\\\\x00\\\\x00\\\\x00\\\\x00\\\\x00\\\\x00\\\\x00\\\\x00\\\\x00\\\\x00\\\\x00\\\\x00\\\\x00\\\\x00\\\\x00\\\\x00\\\\x00\\\\x00\\\\x00\\\\x00\\\\x00\\\\x00\\\\x00\\\\x00'\""
      ]
     },
     "execution_count": 154,
     "metadata": {},
     "output_type": "execute_result"
    }
   ],
   "source": [
    "s = 0x80 * 0x400\n",
    "c = a[s:s+0x80]\n",
    "hexDump(c)\n",
    "str(bytes(c))"
   ]
  }
 ],
 "metadata": {
  "anaconda-cloud": {},
  "kernelspec": {
   "display_name": "Python [conda root]",
   "language": "python",
   "name": "conda-root-py"
  },
  "language_info": {
   "codemirror_mode": {
    "name": "ipython",
    "version": 3
   },
   "file_extension": ".py",
   "mimetype": "text/x-python",
   "name": "python",
   "nbconvert_exporter": "python",
   "pygments_lexer": "ipython3",
   "version": "3.5.3"
  }
 },
 "nbformat": 4,
 "nbformat_minor": 1
}

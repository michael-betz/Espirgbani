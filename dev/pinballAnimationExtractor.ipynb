{
 "cells": [
  {
   "cell_type": "markdown",
   "metadata": {},
   "source": [
    "test.img\n",
    "\n",
    "    0x0000 - 0x01FE    FAT16 Boot Record\n",
    "        --------------------------------------\n",
    "        Start:            0x0000\n",
    "        Reserved Sectors: 0x0400\n",
    "        Sectors per FAT:  0xF200\n",
    "        Maximum Root Directory Entries: 2\n",
    "        Bytes Per Sector: 2\n",
    "        --------------------------------------\n",
    "        Fat Tables:      0x0400  --> maybe 0x200 instead\n",
    "        Root Dir.:       hex(0x400+2*0xF200)          = 0x1e800\n",
    "        Data Area:       hex(0x400+2*0xF200+2*32//2)  = 0x1e820\n",
    "        \n",
    "    0x0200"
   ]
  },
  {
   "cell_type": "markdown",
   "metadata": {},
   "source": [
    "# Header\n",
    "\n",
    "Starting from 0xC800, there seems to be a 0x200 size header block for each animation\n",
    "\n",
    "    ---------------------------------------------------------------------\n",
    "    0001 02 03 0405060708 09 0A 0B 0C 0D 0E 0F 10 11 12 13 <string name> <0x00 padding>\n",
    "    ---------------------------------------------------------------------\n",
    "    0001 01 58 000061A870 57 20 02 01 01 01 2E 03 2F 3B 01 24_001              0x0012C400\n",
    "    0002 01 2C 0000630938 57 20 02 01 01 01 5A 0A 01 2C 01 24_002              0x0013EE00\n",
    "    0003 01 06 000063BA18 29 20 01 00 00 00 00 00 00 00 00 24_003              0x00143000\n",
    "    0004 01 0A 000063D31E 22 20 01 00 00 00 00 00 00 00 00 24_004              0x00148800\n",
    "    0005 01 05 000063FC1E 83 20 01 00 00 00 00 00 00 00 01 24_005              0x00151A00\n",
    "    0006 01 29 0000641129 57 20 02 01 01 01 05 0A 01 29 01 24_006\n",
    "    0007 01 08 000064B630 AE 20 01 00 00 00 00 00 00 00 01 24_007\n",
    "    0008 01 1D 000064D71D 17 1D 02 01 01 01 03 0A 01 23 01 24_008\n",
    "    0009 01 3F 0000654C50 57 20 02 01 01 01 03 0A 01 3F 00 24_009\n",
    "    000A 01 10 0000664910 80 20 01 01 01 00 00 00 00 00 00 AC#DC_001           0x00172C00\n",
    "    000B 01 20 0000668A20 80 20 01 01 00 00 00 00 00 00 00 AC#DC_002\n",
    "    022E 01 01 0000FFFD01 80 20 01 00 00 00 00 00 00 00 00 FLINTSTONES_024\n",
    "    022F 01 01 0001000201 80 20 01 00 00 00 00 00 00 00 00 FLINTSTONES_025\n",
    "    0230 01 01 0001000701 80 20 01 00 00 00 00 00 00 00 00 FLINTSTONES_026\n",
    "    08FC 01 23 00034AB723 80 20 01 01 00 00 00 00 00 00 00 X-MEN_063\n",
    "    08FD 01 14 00034B4414 80 20 01 00 00 00 00 00 00 00 00 X-MEN_064\n",
    "    08FE 01 39 00034B9539 80 20 00 01 01 00 00 00 00 00 00 X-MEN_065\n",
    "\n",
    "\n",
    "        0001 : Animation ID\n",
    "          02 : Always 1\n",
    "          03 : Animation length [frames]\n",
    "    04050607 : Some kind of offset ??\n",
    "          09 : xResolution [pixels]\n",
    "          0A : yResolution [pixels]\n",
    "\n",
    "# Animation offsets\n",
    "    \n",
    "    0x12C400: Start of first frame of first animation\n",
    "    0x13EE00: Start of first frame of second animation\n",
    "    0x143000: Start of first frame of third animation\n",
    "    0x148800\n",
    "    \n",
    "\n",
    "\n",
    "\n",
    "\n",
    "__Strange data blocks at the end of an animation__\n",
    "    \n",
    "    0013EC00   01 32 02 32  03 32 04 32  05 32 06 32  07 32 08 32  .2.2.2.2.2.2.2.2\n",
    "    0013EC10   01 32 02 32  03 32 04 32  05 32 06 32  07 32 08 32  .2.2.2.2.2.2.2.2\n",
    "    0013EC20   01 32 02 32  03 32 04 32  05 32 06 32  07 32 08 32  .2.2.2.2.2.2.2.2\n",
    "    0013EC30   01 32 02 32  03 32 04 32  05 32 06 32  07 32 08 32  .2.2.2.2.2.2.2.2\n",
    "    0013EC40   01 32 02 32  03 32 04 32  05 32 06 32  07 32 08 32  .2.2.2.2.2.2.2.2\n",
    "    0013EC50   01 32 02 32  03 32 04 32  05 32 06 32  07 32 08 32  .2.2.2.2.2.2.2.2\n",
    "    \n",
    "    00142E00   01 69 02 32  03 32 04 32  05 32 06 32  07 32 08 32  .i.2.2.2.2.2.2.2\n",
    "    00142E10   09 32 0A 32  0B 6E 0C 69  0D 32 0E 32  0F 32 10 32  .2.2.n.i.2.2.2.2\n",
    "    00142E20   11 32 12 32  13 32 14 32  15 69 16 32  17 32 18 32  .2.2.2.2.i.2.2.2\n",
    "    00142E30   19 32 1A 32  1B 32 1C 32  1D 73 00 00  00 00 00 00  .2.2.2.2.s......\n",
    "    \n",
    "    00151800   01 32 02 32  03 32 04 32  05 32 06 32  07 32 08 32  |.2.2.2.2.2.2.2.2|\n",
    "    00151810   09 32 0a 32  0b 32 0c 32  0d 32 0e 32  0f 32 10 32  |.2.2.2.2.2.2.2.2|\n",
    "    00151820   11 32 12 32  13 32 14 32  15 32 16 32  17 32 18 32  |.2.2.2.2.2.2.2.2|\n",
    "    00151830   19 32 1a 32  1b 32 1c 32  1d 32 1e 32  1f 32 20 32  |.2.2.2.2.2.2.2 2|\n",
    "    00151840   21 32 22 32  23 32 24 32  25 32 26 32  27 32 28 32  |!2\"2#2$2%2&2'2(2|\n",
    "    00151850   29 32 2a 32  2b 32 2c 32  2d 32 2e 32  2f 32 30 32  |)2*2+2,2-2.2/202|\n",
    "    00151860   31 32 32 32  33 32 34 32  35 32 36 32  37 32 38 32  |1222324252627282|\n",
    "    00151870   39 32 3a 32  3b 32 3c 32  3d 32 3e 32  3f 32 2f 32  |92:2;2<2=2>2?2/2|\n",
    "    00151880   30 32 31 32  32 32 33 32  34 32 35 32  36 32 37 32  |0212223242526272|\n",
    "    00151890   38 32 39 32  3a 32 3b 32  3c 32 3d 32  3e 32 3f 32  |8292:2;2<2=2>2?2|\n",
    "    001518a0   00 00 00 00  00 00 00 00  00 00 00 00  00 00 00 00  |................|\n",
    "    \n",
    "    \n",
    "    \n",
    "    \n"
   ]
  },
  {
   "cell_type": "code",
   "execution_count": 650,
   "metadata": {},
   "outputs": [
    {
     "name": "stdout",
     "output_type": "stream",
     "text": [
      "Using matplotlib backend: Qt5Agg\n",
      "Populating the interactive namespace from numpy and matplotlib\n"
     ]
    },
    {
     "name": "stderr",
     "output_type": "stream",
     "text": [
      "/home/michael/miniconda3/lib/python3.6/site-packages/IPython/core/magics/pylab.py:160: UserWarning: pylab import has clobbered these variables: ['f']\n",
      "`%matplotlib` prevents importing * from pylab and numpy\n",
      "  \"\\n`%matplotlib` prevents importing * from pylab and numpy\"\n"
     ]
    }
   ],
   "source": [
    "%pylab\n",
    "import time\n",
    "import matplotlib.animation as animation"
   ]
  },
  {
   "cell_type": "code",
   "execution_count": 348,
   "metadata": {},
   "outputs": [],
   "source": [
    "#fName = \"./ani.raw.data\"\n",
    "fName = \"/home/michael/Desktop/older.img\"\n",
    "with open(fName,\"rb\") as f:\n",
    "    rawDat = array( bytearray(f.read()), dtype=uint8 )"
   ]
  },
  {
   "cell_type": "code",
   "execution_count": 685,
   "metadata": {
    "collapsed": true
   },
   "outputs": [],
   "source": [
    "def hexDump( buffer ):\n",
    "    \"\"\" Print a pretty hex-dump on the debug out \"\"\"\n",
    "    for i,b in enumerate(buffer):\n",
    "        if len(buffer)>16 and (i%16)==0:\n",
    "            print( \"\\n    {:04x}: \".format(i), end='' )\n",
    "        print( \"{:02x} \".format(b), end='' )\n",
    "\n",
    "def getFrame( buf, xSize=128, ySize=32, frameOffset=0, byteOffset=None ):\n",
    "    \"\"\" returns unpacked image data, 1 byte per pixel \"\"\"\n",
    "    if byteOffset is None:\n",
    "        byteOffset = xSize*ySize*frameOffset\n",
    "    rawDat = buf[byteOffset:byteOffset+ySize*xSize//2]\n",
    "    # unpack 2 pixels / byte to 1 pixel / byte\n",
    "    a = zeros(xSize*ySize, dtype=uint8)\n",
    "    a[1::2] = rawDat & 0x0F\n",
    "    a[0::2] = rawDat >> 4\n",
    "    return a.reshape((ySize,xSize))\n",
    "\n",
    "def isFooter( dat ):\n",
    "    \"\"\" returns >= 0 if a footer frame of size 0x200 bytes is detected \"\"\"\n",
    "    tag = b\"\\x01\\x02\\x03\\x04\\x05\"\n",
    "    a = b\"\".join( dat.flatten()[:128*32//2][0::2] )\n",
    "    b = b\"\".join( dat.flatten()[:128*32//2][1::2] )\n",
    "    ind = a.find( tag )\n",
    "    if ind >= 0:\n",
    "        return 2*ind\n",
    "    ind = b.find( tag )\n",
    "    if ind >= 0:\n",
    "        return 2*ind+1\n",
    "    return ind\n",
    "\n",
    "fNameOffset = 0xC814\n",
    "def getNextFname():\n",
    "    global fNameOffset\n",
    "    fName = b\"\".join( rawDat[fNameOffset:fNameOffset+32] ).replace(b\"\\x00\",b\"\").decode(\"ascii\")\n",
    "    fNameOffset += 0x200\n",
    "    return fName"
   ]
  },
  {
   "cell_type": "markdown",
   "metadata": {},
   "source": [
    "# Animated plot"
   ]
  },
  {
   "cell_type": "code",
   "execution_count": 687,
   "metadata": {
    "collapsed": true,
    "scrolled": true
   },
   "outputs": [],
   "source": [
    "close(\"all\")\n",
    "figure( figsize=(8,2))\n",
    "d = imshow( zeros((ySize,xSize)), aspect=\"equal\", vmin=0, vmax=15, interpolation=\"hanning\", cmap=cm.binary_r )\n",
    "\n",
    "fNameOffset = 0\n",
    "xSize = 128\n",
    "ySize = 32   #len(rawDat)\n",
    "frameSize = xSize * ySize // 2\n",
    "offset = 0x12C400\n",
    "def ani(x):\n",
    "    global offset\n",
    "    aniDat = rawDat[offset:offset+frameSize]\n",
    "    fOffs = isFooter( aniDat )\n",
    "    if fOffs >= 0:\n",
    "        offset += fOffs + 0x200\n",
    "        return\n",
    "    d.set_data( getFrame(aniDat, xSize, ySize) )\n",
    "    offset += frameSize\n",
    "\n",
    "#ani = animation.FuncAnimation(gcf(), ani, interval=50 )"
   ]
  },
  {
   "cell_type": "code",
   "execution_count": 668,
   "metadata": {},
   "outputs": [],
   "source": [
    "from PIL import Image"
   ]
  },
  {
   "cell_type": "code",
   "execution_count": 682,
   "metadata": {},
   "outputs": [
    {
     "data": {
      "image/png": "[encoded data removed]",
      "text/plain": [
       "<PIL.Image.Image image mode=L size=128x32 at 0x7F48F1C13D68>"
      ]
     },
     "execution_count": 682,
     "metadata": {},
     "output_type": "execute_result"
    }
   ],
   "source": [
    "img = Image.fromarray( getFrame(rawDat, byteOffset=offset+3*frameSize)*16 )\n",
    "img"
   ]
  },
  {
   "cell_type": "code",
   "execution_count": 910,
   "metadata": {},
   "outputs": [
    {
     "data": {
      "text/plain": [
       "'L'"
      ]
     },
     "execution_count": 910,
     "metadata": {},
     "output_type": "execute_result"
    }
   ],
   "source": [
    "img.mode"
   ]
  },
  {
   "cell_type": "code",
   "execution_count": 885,
   "metadata": {},
   "outputs": [
    {
     "data": {
      "text/plain": [
       "160"
      ]
     },
     "execution_count": 885,
     "metadata": {},
     "output_type": "execute_result"
    }
   ],
   "source": [
    "0xA*16"
   ]
  },
  {
   "cell_type": "code",
   "execution_count": null,
   "metadata": {},
   "outputs": [],
   "source": [
    "xSize = 128\n",
    "ySize =  32\n",
    "frameSize = xSize * ySize // 2\n",
    "offset = 0x12C400\n",
    "fNameOffset = 0xC814\n",
    "imlist = []\n",
    "while(1):\n",
    "    aniDat = rawDat[offset:offset+frameSize]\n",
    "    if len(aniDat) < frameSize:\n",
    "        print(\"done\")\n",
    "        break\n",
    "    fOffs = isFooter( aniDat )\n",
    "    if fOffs >= 0:\n",
    "        # end of current file, save it\n",
    "        fName = \"./gif/{}.gif\".format( getNextFname() )\n",
    "        print( hex(offset), fName )\n",
    "        imlist[0].save( fName, save_all=True, append_images=imlist[1:] )\n",
    "        #start a new file\n",
    "        imlist = []\n",
    "        offset += fOffs + 0x200\n",
    "    else:\n",
    "        imgData = getFrame(aniDat, xSize, ySize) * 16\n",
    "        imlist.append( Image.fromarray(imgData, mode=\"L\") )\n",
    "        offset += frameSize"
   ]
  },
  {
   "cell_type": "code",
   "execution_count": 916,
   "metadata": {},
   "outputs": [
    {
     "data": {
      "text/plain": [
       "'0x77ffc00'"
      ]
     },
     "execution_count": 916,
     "metadata": {},
     "output_type": "execute_result"
    }
   ],
   "source": [
    "hex(offset)"
   ]
  },
  {
   "cell_type": "code",
   "execution_count": 497,
   "metadata": {},
   "outputs": [
    {
     "data": {
      "text/plain": [
       "0"
      ]
     },
     "execution_count": 497,
     "metadata": {},
     "output_type": "execute_result"
    }
   ],
   "source": [
    "isFooter( rawDat[0x383400:] )"
   ]
  },
  {
   "cell_type": "code",
   "execution_count": 691,
   "metadata": {
    "collapsed": true
   },
   "outputs": [],
   "source": [
    "d.set_data( getFrame(rawDat, byteOffset=0x151a00+frameSize*4) )"
   ]
  },
  {
   "cell_type": "code",
   "execution_count": 374,
   "metadata": {},
   "outputs": [],
   "source": [
    "ftr = getFrame(rawDat, byteOffset=0x1A2A00 + frameSize*0 )\n",
    "frm = getFrame(rawDat, byteOffset=0x1A2A00 + frameSize*-1 )"
   ]
  },
  {
   "cell_type": "code",
   "execution_count": 376,
   "metadata": {
    "scrolled": true
   },
   "outputs": [
    {
     "data": {
      "text/plain": [
       "True"
      ]
     },
     "execution_count": 376,
     "metadata": {},
     "output_type": "execute_result"
    }
   ],
   "source": [
    "isFooter( ftr )"
   ]
  },
  {
   "cell_type": "code",
   "execution_count": 879,
   "metadata": {
    "collapsed": true
   },
   "outputs": [],
   "source": [
    "i=0\n",
    "startOffset = 0x188600"
   ]
  },
  {
   "cell_type": "code",
   "execution_count": 882,
   "metadata": {
    "scrolled": true
   },
   "outputs": [
    {
     "name": "stdout",
     "output_type": "stream",
     "text": [
      "0x2\n",
      "0x189600\n"
     ]
    }
   ],
   "source": [
    "frm = getFrame(rawDat, byteOffset=startOffset+frameSize*i)\n",
    "d.set_data( frm )\n",
    "print(hex(i))\n",
    "print(hex(startOffset+frameSize*i))\n",
    "i += 1"
   ]
  },
  {
   "cell_type": "code",
   "execution_count": null,
   "metadata": {
    "collapsed": true
   },
   "outputs": [],
   "source": []
  }
 ],
 "metadata": {
  "anaconda-cloud": {},
  "kernelspec": {
   "display_name": "Python 3",
   "language": "python",
   "name": "python3"
  },
  "language_info": {
   "codemirror_mode": {
    "name": "ipython",
    "version": 3
   },
   "file_extension": ".py",
   "mimetype": "text/x-python",
   "name": "python",
   "nbconvert_exporter": "python",
   "pygments_lexer": "ipython3",
   "version": "3.6.1"
  }
 },
 "nbformat": 4,
 "nbformat_minor": 1
}

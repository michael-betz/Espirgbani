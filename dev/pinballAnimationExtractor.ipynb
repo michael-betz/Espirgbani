{
 "cells": [
  {
   "cell_type": "markdown",
   "metadata": {},
   "source": [
    "# Animation index\n",
    "\n",
    "    // File header\n",
    "    // 0x00000000: DGD<16:nAnimations>\n",
    "    // 0x0000001B: < 2:HEADER_SIZE>\t//??? HEADER_SIZE = 0x200 !\n",
    "    // 0x000001EF: < 3:\"B130\"> \t\t//build string\n",
    "    // startup animation\n",
    "    // 0x00001400: < 7:\"RUN_DMD\"> \t//marker of begin of retentive settings area?\n",
    "    // 0x0000C600:\t\t\t\t\t//Unused OS bootsector data\n",
    "    // 0x0000C800:\t\t\t\t\t//Begin of animation table (see below)\n",
    "    // 0x000E8000:\t\t\t\t\t//Looks like a crapload of font data!\n",
    "    // 0x004E2000:\t\t\t\t\t//First animation frame\n",
    "\n",
    "    // 0x00002710:\t\t\t\t\t//First raw offset\n",
    "    // --> MAGIC_OFFSET = 0\n",
    "\n",
    "    Starting from 0xC800, there seems to be a 0x200 size header block for each animation\n",
    "\n",
    "    ---------------------------------------------------------------------\n",
    "    0001 02 03 04050607 08 09 0A 0B 0C 0D 0E 0F 10 11 12 13 <string name> <0x00 padding>\n",
    "    ---------------------------------------------------------------------\n",
    "    0001 01 58 000061A8 70 57 20 02 01 01 01 2E 03 2F 3B 01 24_001              \n",
    "    0002 01 2C 00006309 38 57 20 02 01 01 01 5A 0A 01 2C 01 24_002              \n",
    "    0003 01 06 000063BA 18 29 20 01 00 00 00 00 00 00 00 00 24_003             \n",
    "    0004 01 0A 000063D3 1E 22 20 01 00 00 00 00 00 00 00 00 24_004             \n",
    "    0005 01 05 000063FC 1E 83 20 01 00 00 00 00 00 00 00 01 24_005             \n",
    "    0006 01 29 00006411 29 57 20 02 01 01 01 05 0A 01 29 01 24_006             \n",
    "    0007 01 08 000064B6 30 AE 20 01 00 00 00 00 00 00 00 01 24_007              \n",
    "    0008 01 1D 000064D7 1D 17 1D 02 01 01 01 03 0A 01 23 01 24_008              \n",
    "    0009 01 3F 0000654C 50 57 20 02 01 01 01 03 0A 01 3F 00 24_009              \n",
    "    000A 01 10 00006649 10 80 20 01 01 01 00 00 00 00 00 00 AC#DC_001           \n",
    "    000B 01 20 0000668A 20 80 20 01 01 00 00 00 00 00 00 00 AC#DC_002\n",
    "    022E 01 01 0000FFFD 01 80 20 01 00 00 00 00 00 00 00 00 FLINTSTONES_024\n",
    "    022F 01 01 00010002 01 80 20 01 00 00 00 00 00 00 00 00 FLINTSTONES_025\n",
    "    0230 01 01 00010007 01 80 20 01 00 00 00 00 00 00 00 00 FLINTSTONES_026\n",
    "    08FC 01 23 00034AB7 23 80 20 01 01 00 00 00 00 00 00 00 X-MEN_063\n",
    "    08FD 01 14 00034B44 14 80 20 01 00 00 00 00 00 00 00 00 X-MEN_064\n",
    "    08FE 01 39 00034B95 39 80 20 00 01 01 00 00 00 00 00 00 X-MEN_065\n",
    "    \n",
    "    * Watch out, header has been clipped off\n",
    "\n",
    "__Confirmed__\n",
    "\n",
    "        0001 : Animation ID\n",
    "          02 : ???\n",
    "          03 : Number of stored frames\n",
    "    04050607 : get byteOffset to frameTable:    x  * 0x200\n",
    "                              firstFrame at: (1+x) * 0x200\n",
    "          08 : number of frame entries in the frameTable\n",
    "          09 : xResolution [pixels] (sometimes has errors)\n",
    "          0A : yResolution [pixels] (sometimes has errors)\n",
    "\n",
    "\n",
    "## Frame table (animation header)\n",
    "\n",
    "    N * 2 bytes: \n",
    "      <frame number to show> <miliseconds to show frame>\n",
    "    the frame number can be 0 sometimes, show a blank frame then\n",
    "    the miliseconds is never zero, which is used to confirm a valid table\n",
    "    Actual frame data starts at frameTable + 0x200   \n"
   ]
  },
  {
   "cell_type": "code",
   "execution_count": null,
   "metadata": {},
   "outputs": [],
   "source": [
    "offset = 0x049A1000\n",
    "fOffs=0\n",
    "headerDat = rawDat[offset:offset+0x200]\n",
    "getHeader( headerDat )[0]"
   ]
  },
  {
   "cell_type": "code",
   "execution_count": null,
   "metadata": {},
   "outputs": [],
   "source": [
    "d.set_data( getFrame(rawDat, byteOffset=offset+0x200, frameOffset=fOffs) )\n",
    "print(fOffs)\n",
    "fOffs += 1"
   ]
  },
  {
   "cell_type": "code",
   "execution_count": null,
   "metadata": {},
   "outputs": [],
   "source": [
    "255/15"
   ]
  },
  {
   "cell_type": "code",
   "execution_count": null,
   "metadata": {},
   "outputs": [],
   "source": [
    "15*17"
   ]
  },
  {
   "cell_type": "code",
   "execution_count": null,
   "metadata": {},
   "outputs": [],
   "source": [
    "d.set_data( getFrame(rawDat, byteOffset=offset+0x200, frameOffset=fOffs) )\n",
    "print(fOffs)\n",
    "fOffs += 1"
   ]
  },
  {
   "cell_type": "code",
   "execution_count": null,
   "metadata": {},
   "outputs": [],
   "source": [
    "%pylab\n",
    "import time\n",
    "import matplotlib.animation as animation\n",
    "\n",
    "def hexDump( buffer ):\n",
    "    \"\"\" Print a pretty hex-dump on the debug out \"\"\"\n",
    "    for i,b in enumerate(buffer):\n",
    "        if len(buffer)>16 and (i%16)==0:\n",
    "            print( \"\\n    {:04x}: \".format(i), end='' )\n",
    "        print( \"{:02x} \".format(b), end='' )\n",
    "\n",
    "def getHeader( buf ):\n",
    "    \"\"\" return frame index, frame duration [ms] \"\"\"\n",
    "    frameId = buf[0::2]\n",
    "    frameMs = buf[1::2]\n",
    "    return frameId, frameMs        \n",
    "        \n",
    "def getFrame( buf, xSize=128, ySize=32, frameOffset=0, byteOffset=0 ):\n",
    "    \"\"\" returns unpacked image data, 1 byte per pixel \"\"\"\n",
    "    byteOffset += xSize*ySize*frameOffset//2\n",
    "    rawDat = buf[byteOffset:byteOffset+ySize*xSize//2]\n",
    "    # unpack 2 pixels / byte to 1 pixel / byte\n",
    "    a = zeros(xSize*ySize, dtype=uint8)\n",
    "    a[1::2] = rawDat & 0x0F\n",
    "    a[0::2] = rawDat >> 4\n",
    "    return a.reshape((ySize,xSize))\n",
    "\n",
    "def isHeader( dat ):\n",
    "    \"\"\"\n",
    "    returns offset to the beginning of a detected header frame.\n",
    "    returns -1 of no header was detected\n",
    "    \"\"\"\n",
    "    tag = b\"\\x01\\x02\\x03\\x04\\x05\"\n",
    "    a = b\"\".join( dat.flatten()[0::2] )\n",
    "    b = b\"\".join( dat.flatten()[1::2] )\n",
    "    ind = a.find( tag )\n",
    "    if ind >= 0:\n",
    "        return 2*ind\n",
    "    ind = b.find( tag )\n",
    "    if ind >= 0:\n",
    "        return 2*ind+1\n",
    "    return ind\n",
    "\n",
    "fNameOffset = 0xC814\n",
    "def getNextFname():\n",
    "    global fNameOffset\n",
    "    fName = b\"\".join( rawDat[fNameOffset:fNameOffset+32] ).replace(b\"\\x00\",b\"\").decode(\"ascii\")\n",
    "    fNameOffset += 0x200\n",
    "    return fName\n",
    "\n",
    "fName = \"./runDmd.img\"\n",
    "#fName = \"./RunDMD_B130.img\"\n",
    "#fName = \"/home/michael/Desktop/older.img\"\n",
    "#fName = \"/media/sf_Google_Drive/pdmd/picodmd_b236.img\"\n",
    "with open(fName,\"rb\") as f:\n",
    "    rawDat = array( bytearray(f.read()), dtype=uint8 )"
   ]
  },
  {
   "cell_type": "markdown",
   "metadata": {},
   "source": [
    "# Parse header"
   ]
  },
  {
   "cell_type": "code",
   "execution_count": null,
   "metadata": {},
   "outputs": [],
   "source": [
    "headerStartOffset = 0xC800\n",
    "hexDump( rawDat[headerStartOffset:headerStartOffset+100] )"
   ]
  },
  {
   "cell_type": "markdown",
   "metadata": {},
   "source": [
    "# Animated plot"
   ]
  },
  {
   "cell_type": "code",
   "execution_count": null,
   "metadata": {
    "scrolled": true
   },
   "outputs": [],
   "source": [
    "fNameOffset = 0\n",
    "xSize = 128\n",
    "ySize = 32  #len(rawDat)\n",
    "frameSize = xSize * ySize // 2\n",
    "offset = 0x0698F000\n",
    "\n",
    "close(\"all\")\n",
    "figure( figsize=(8,2))\n",
    "d = imshow( getFrame(rawDat, xSize, ySize, 0, offset), aspect=\"equal\", vmin=0, vmax=15, interpolation=\"hanning\", cmap=cm.binary_r )\n",
    "\n",
    "def ani(x):\n",
    "    global offset\n",
    "    aniDat = rawDat[offset:offset+frameSize]\n",
    "    fOffs = isFooter( aniDat )\n",
    "    if fOffs >= 0:\n",
    "        offset += fOffs + 0x200\n",
    "        return\n",
    "    d.set_data( getFrame(aniDat, xSize, ySize) )\n",
    "    offset += frameSize\n",
    "\n",
    "#ani = animation.FuncAnimation(gcf(), ani, interval=50 )"
   ]
  },
  {
   "cell_type": "code",
   "execution_count": null,
   "metadata": {},
   "outputs": [],
   "source": [
    "from PIL import Image"
   ]
  },
  {
   "cell_type": "markdown",
   "metadata": {},
   "source": [
    "# Gif write test"
   ]
  },
  {
   "cell_type": "code",
   "execution_count": null,
   "metadata": {},
   "outputs": [],
   "source": [
    "offset = 0x12C400\n",
    "imgs = []\n",
    "for i in range(5):\n",
    "    img = Image.fromarray( getFrame(rawDat, byteOffset=offset+frameSize*i)*16 )\n",
    "    img.info[\"transparency\"] = 0x0A*16\n",
    "    img.info[\"duration\"] = 1000\n",
    "    imgs.append( img )\n",
    "imgs[0].save(\"test.gif\", \"GIF\", optimize=False, save_all=True, append_images=imgs[1:] )"
   ]
  },
  {
   "cell_type": "markdown",
   "metadata": {},
   "source": [
    "# Gif export"
   ]
  },
  {
   "cell_type": "code",
   "execution_count": null,
   "metadata": {},
   "outputs": [],
   "source": [
    "xSize = 128\n",
    "ySize =  32\n",
    "frameSize = xSize * ySize // 2\n",
    "headerSize = 0x200\n",
    "offset = 0x0013EC00\n",
    "fNameOffset = 0xC814\n",
    "cnter = 0\n",
    "while(1):  # for each animation\n",
    "    imlist = []\n",
    "    # find new header\n",
    "    #headerDat = rawDat[offset:offset+2**17]\n",
    "    #headerOffset = isHeader( headerDat )\n",
    "    #if headerOffset < 0:\n",
    "    #    print(\"Header not found :(\")\n",
    "    #    break\n",
    "    #offset += headerOffset\n",
    "    # decode header\n",
    "    headerDat = rawDat[offset:offset+headerSize]\n",
    "    offset += headerSize\n",
    "    # decode frames\n",
    "    fName = getNextFname()\n",
    "    headDat = getHeader( headerDat )\n",
    "    for frameId, frameDel in zip( *headDat ):\n",
    "        if frameId<=0 or frameDel<=0:\n",
    "            continue\n",
    "        #print( frameId, frameDel, \"  \", end=\"\" )\n",
    "        imgData = getFrame( rawDat, xSize, ySize, byteOffset=offset, frameOffset=frameId-1 ) * 16\n",
    "        img = Image.fromarray(imgData, mode=\"L\")\n",
    "        img.info[\"duration\"] = frameDel\n",
    "        imlist.append( img )\n",
    "    print( hex(offset), len(imlist), fName )\n",
    "    #print(\"\")\n",
    "    # end of current file, save it\n",
    "    fullFName = \"./gif/{}.gif\".format( fName )\n",
    "    imlist[0].save( fullFName, \"GIF\", optimize=True, save_all=True, transparency=0x0A*16, append_images=imlist[1:] )\n",
    "    offset += amax( headDat[0] ) * frameSize\n",
    "    #if cnter > 50:\n",
    "    #    break\n",
    "    #cnter += 1"
   ]
  },
  {
   "cell_type": "code",
   "execution_count": null,
   "metadata": {},
   "outputs": [],
   "source": [
    "hex(0x2b0a00 + frameSize*19)"
   ]
  },
  {
   "cell_type": "code",
   "execution_count": null,
   "metadata": {},
   "outputs": [],
   "source": [
    "isFooter( rawDat[0x383400:] )"
   ]
  },
  {
   "cell_type": "code",
   "execution_count": null,
   "metadata": {},
   "outputs": [],
   "source": [
    "ftr = getFrame(rawDat, byteOffset=0x1A2A00 + frameSize*0 )\n",
    "frm = getFrame(rawDat, byteOffset=0x1A2A00 + frameSize*-1 )"
   ]
  },
  {
   "cell_type": "code",
   "execution_count": null,
   "metadata": {
    "scrolled": true
   },
   "outputs": [],
   "source": [
    "isFooter( ftr )"
   ]
  },
  {
   "cell_type": "code",
   "execution_count": null,
   "metadata": {},
   "outputs": [],
   "source": [
    "i=0\n",
    "startOffset = 0x188600"
   ]
  },
  {
   "cell_type": "code",
   "execution_count": null,
   "metadata": {
    "scrolled": true
   },
   "outputs": [],
   "source": [
    "frm = getFrame(rawDat, byteOffset=startOffset+frameSize*i)\n",
    "d.set_data( frm )\n",
    "print(hex(i))\n",
    "print(hex(startOffset+frameSize*i))\n",
    "i += 1"
   ]
  },
  {
   "cell_type": "markdown",
   "metadata": {
    "collapsed": true
   },
   "source": [
    "# Backport from C"
   ]
  },
  {
   "cell_type": "code",
   "execution_count": null,
   "metadata": {},
   "outputs": [],
   "source": [
    "%pylab\n",
    "from struct import pack, unpack\n",
    "HEADER_OFFS   = 0x0000C800\n",
    "HEADER_SIZE   = 0x00000200\n",
    "ANI_DAT_START = 0x004E2000"
   ]
  },
  {
   "cell_type": "code",
   "execution_count": null,
   "metadata": {},
   "outputs": [],
   "source": [
    "f = open(\"./runDmd.img\", \"rb\")\n",
    "if f.read(3) != b'DGD':\n",
    "    raise RuntimeError('Invalid DGD header')\n",
    "nAnimations = unpack(\">H\", f.read(2))"
   ]
  },
  {
   "cell_type": "code",
   "execution_count": null,
   "metadata": {},
   "outputs": [],
   "source": [
    "nAnimations"
   ]
  },
  {
   "cell_type": "code",
   "execution_count": null,
   "metadata": {},
   "outputs": [],
   "source": [
    "f.seek(0x1ef)\n",
    "buf = f.read(8)\n",
    "buildStr = buf.strip(b'\\x00').decode(\"ascii\")"
   ]
  },
  {
   "cell_type": "code",
   "execution_count": null,
   "metadata": {
    "scrolled": true
   },
   "outputs": [],
   "source": [
    "buildStr"
   ]
  },
  {
   "cell_type": "code",
   "execution_count": null,
   "metadata": {},
   "outputs": [],
   "source": [
    "def parse_header(f, headerIndex):\n",
    "    \"\"\"\n",
    "      f: file object of RunDMD_BXXX.img\n",
    "      headerIndex: integer, which animation to fetch\n",
    "      returns: dict with header info\n",
    "    \"\"\"\n",
    "    f.seek(HEADER_OFFS + HEADER_SIZE * headerIndex)\n",
    "    rawDat = unpack(\">HxBIBBB9x32s\", f.read(52))\n",
    "    header = {\n",
    "        \"animation_id\": rawDat[0],\n",
    "        \"n_bitmaps\": rawDat[1],\n",
    "        \"byte_offset\": rawDat[2] * HEADER_SIZE,\n",
    "        \"n_frames\": rawDat[3],\n",
    "        \"width\": rawDat[4],\n",
    "        \"height\": rawDat[5],\n",
    "        \"name\": rawDat[6].strip(b'\\x00').decode(\"ascii\")\n",
    "    }\n",
    "    f.seek(header[\"byte_offset\"])\n",
    "    buff = f.read(header[\"n_frames\"] * 2)\n",
    "    header[\"frame_ids\"] = list(buff[0::2])\n",
    "    header[\"frame_durs\"] = list(buff[1::2])\n",
    "    return header\n",
    "\n",
    "def get_frame_dat(f, header, frame_offset):\n",
    "    \"\"\"\n",
    "        f: open .img file\n",
    "        header: dict from parse_header()\n",
    "        frame_offset: which frame (0 = first)\n",
    "        returns byte buffer of size 128 x 64, 1 pixel per byte\n",
    "    \"\"\"\n",
    "    byte_offset = header[\"byte_offset\"] + HEADER_SIZE\n",
    "    byte_offset += 128 * 32 * frame_offset // 2\n",
    "    f.seek(byte_offset)\n",
    "    buff_4 = f.read(128 * 32 // 2)      # 2 pixel per byte\n",
    "    # unpack 2 pixels / byte to 1 pixel / byte\n",
    "    buff_8 = bytearray(128 * 32)        # 1 pixel per byte\n",
    "    buff_8[0::2] = [(i & 0xF0) for i in buff_4]\n",
    "    buff_8[1::2] = [(i & 0x0F) << 4 for i in buff_4]\n",
    "    return bytes(buff_8)"
   ]
  },
  {
   "cell_type": "code",
   "execution_count": null,
   "metadata": {},
   "outputs": [],
   "source": [
    "h = parseHeader(f, 900)\n",
    "h"
   ]
  },
  {
   "cell_type": "code",
   "execution_count": null,
   "metadata": {},
   "outputs": [],
   "source": [
    "dat = get_frame_dat(f, h, 0)\n",
    "Image.frombytes(\"L\", (128, 32), dat)"
   ]
  },
  {
   "cell_type": "code",
   "execution_count": null,
   "metadata": {},
   "outputs": [],
   "source": [
    "h = parse_header(f, 1)\n",
    "imgs = []\n",
    "for f_id, f_dur in zip(h[\"frame_ids\"], h[\"frame_durs\"]):\n",
    "    img_dat = get_frame_dat(f, h, f_id - 1)\n",
    "    img = Image.frombytes(\"L\", (128, 32), img_dat)\n",
    "    img.info[\"background\"] = 0x00 << 4\n",
    "    img.info[\"transparency\"] = 0x0A << 4\n",
    "    img.info[\"duration\"] = f_dur\n",
    "    imgs.append(img)"
   ]
  },
  {
   "cell_type": "code",
   "execution_count": null,
   "metadata": {},
   "outputs": [],
   "source": []
  }
 ],
 "metadata": {
  "anaconda-cloud": {},
  "kernelspec": {
   "display_name": "Python 3",
   "language": "python",
   "name": "python3"
  },
  "language_info": {
   "codemirror_mode": {
    "name": "ipython",
    "version": 3
   },
   "file_extension": ".py",
   "mimetype": "text/x-python",
   "name": "python",
   "nbconvert_exporter": "python",
   "pygments_lexer": "ipython3",
   "version": "3.6.7"
  }
 },
 "nbformat": 4,
 "nbformat_minor": 1
}
